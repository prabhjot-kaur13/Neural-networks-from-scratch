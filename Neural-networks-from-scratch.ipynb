{
 "cells": [
  {
   "cell_type": "markdown",
   "metadata": {
    "id": "vuxW_3a-Yt36"
   },
   "source": [
    "Loading MNIST Dataset"
   ]
  },
  {
   "cell_type": "code",
   "execution_count": 107,
   "metadata": {
    "id": "pKdQK7KbEhwN"
   },
   "outputs": [],
   "source": [
    "from keras import models, layers, optimizers, datasets, utils, losses\n",
    "import numpy as np\n",
    "\n",
    "(x_train, y_train), (x_test, y_test) = datasets.mnist.load_data()"
   ]
  },
  {
   "cell_type": "markdown",
   "metadata": {
    "id": "AqcEu4-d-wdg"
   },
   "source": [
    "# Data preprocessing\n"
   ]
  },
  {
   "cell_type": "code",
   "execution_count": 108,
   "metadata": {
    "id": "YJtDkcMAaGu0"
   },
   "outputs": [],
   "source": [
    "train_size=1024\n",
    "test_size=1024"
   ]
  },
  {
   "cell_type": "code",
   "execution_count": 109,
   "metadata": {
    "colab": {
     "base_uri": "https://localhost:8080/",
     "height": 51
    },
    "id": "fjpJHOUUYrfM",
    "outputId": "91b7e3a0-9519-4f5e-878a-272e70050798"
   },
   "outputs": [
    {
     "name": "stdout",
     "output_type": "stream",
     "text": [
      "(1024,)\n",
      "(1024, 784)\n"
     ]
    }
   ],
   "source": [
    "x_train = x_train.reshape(60000, 784)/255\n",
    "x_test = x_test.reshape(10000, 784)/255\n",
    "x_train = x_train[:train_size,:]\n",
    "x_test = x_test[:test_size,:]\n",
    "y_train = y_train[:train_size]\n",
    "y_test = y_test[:test_size]\n",
    "print(y_train.shape)\n",
    "print(x_train.shape)"
   ]
  },
  {
   "cell_type": "code",
   "execution_count": 110,
   "metadata": {
    "colab": {
     "base_uri": "https://localhost:8080/",
     "height": 51
    },
    "id": "xFx0WdBVaQMh",
    "outputId": "dd2703db-86e3-41e2-f084-536780b9d02d"
   },
   "outputs": [
    {
     "name": "stdout",
     "output_type": "stream",
     "text": [
      "5\n",
      "[0. 0. 1. 1. 0. 1. 0. 1.]\n"
     ]
    }
   ],
   "source": [
    "import numpy as np\n",
    "y_train_binary = np.empty((train_size,8))\n",
    "counter =0 \n",
    "for y in y_train:\n",
    "  ascii_y = ord(str(y))\n",
    "  binary_y = '{0:08b}'.format(ascii_y)\n",
    "  binary_y = np.array([int(str_y) for str_y in list(binary_y)])\n",
    "  y_train_binary[counter]=binary_y\n",
    "  counter+=1\n",
    "print(y_train[0])\n",
    "print(y_train_binary[0])"
   ]
  },
  {
   "cell_type": "code",
   "execution_count": 111,
   "metadata": {
    "colab": {
     "base_uri": "https://localhost:8080/",
     "height": 51
    },
    "id": "kq7ZlH6IX7Fi",
    "outputId": "ad4f3eeb-99b2-480b-a07e-ed9a94e10864"
   },
   "outputs": [
    {
     "name": "stdout",
     "output_type": "stream",
     "text": [
      "7\n",
      "[0. 0. 1. 1. 0. 1. 1. 1.]\n"
     ]
    }
   ],
   "source": [
    "y_test_binary = np.empty((test_size,8))\n",
    "counter =0 \n",
    "for y in y_test:\n",
    "  ascii_y = ord(str(y))\n",
    "  binary_y = '{0:08b}'.format(ascii_y)\n",
    "  binary_y = np.array([int(str_y) for str_y in list(binary_y)])\n",
    "  y_test_binary[counter]=binary_y\n",
    "  counter+=1\n",
    "print(y_test[0])\n",
    "print(y_test_binary[0])"
   ]
  },
  {
   "cell_type": "code",
   "execution_count": 112,
   "metadata": {
    "colab": {
     "base_uri": "https://localhost:8080/",
     "height": 34
    },
    "id": "yYbJ7Z6Ev5xO",
    "outputId": "316a2c1e-7b66-46fc-dcc8-c29d5663fa68"
   },
   "outputs": [
    {
     "name": "stdout",
     "output_type": "stream",
     "text": [
      "(785, 1024)\n"
     ]
    }
   ],
   "source": [
    "x_train = x_train.T\n",
    "\n",
    "x_train = np.append(x_train, [[1]*train_size], axis=0)\n",
    "print(x_train.shape)"
   ]
  },
  {
   "cell_type": "code",
   "execution_count": 113,
   "metadata": {
    "id": "_ojOyggFX024"
   },
   "outputs": [],
   "source": [
    "x_test = x_test.T\n",
    "x_test = np.append(x_test, [[1]*test_size], axis=0)"
   ]
  },
  {
   "cell_type": "markdown",
   "metadata": {
    "id": "mnoRuQpe2IBL"
   },
   "source": [
    "**Baseline model**\n",
    "\n",
    "Learning rate of 0.1 and momentum of 0.9.Number of trials for training the network was set to 100 initially"
   ]
  },
  {
   "cell_type": "markdown",
   "metadata": {
    "id": "GRVpNGC7-73h"
   },
   "source": [
    "# Baseline Model"
   ]
  },
  {
   "cell_type": "code",
   "execution_count": 147,
   "metadata": {
    "id": "erPelDIN0NVW"
   },
   "outputs": [],
   "source": [
    "X=x_train\n",
    "Y=y_train_binary.T\n",
    "Ni =785; Nh=40; No=8;\n",
    "Ntrials=500\n",
    "alpha = 0.0001\n",
    "n=train_size\n",
    "momentum = 0.9"
   ]
  },
  {
   "cell_type": "code",
   "execution_count": 148,
   "metadata": {
    "colab": {
     "base_uri": "https://localhost:8080/",
     "height": 315
    },
    "id": "OgcAxj6h0aDp",
    "outputId": "a62cbf66-e7cb-4030-fce8-6268594d0f34"
   },
   "outputs": [
    {
     "name": "stdout",
     "output_type": "stream",
     "text": [
      "560.0\n"
     ]
    },
    {
     "data": {
      "text/plain": [
       "[<matplotlib.lines.Line2D at 0x7f401e888ef0>]"
      ]
     },
     "execution_count": 148,
     "metadata": {
      "tags": []
     },
     "output_type": "execute_result"
    },
    {
     "data": {
      "image/png": "[encoded data removed]",
      "text/plain": [
       "<Figure size 432x288 with 1 Axes>"
      ]
     },
     "metadata": {
      "needs_background": "light",
      "tags": []
     },
     "output_type": "display_data"
    }
   ],
   "source": [
    "wh=np.random.randn(Nh, Ni);\n",
    "dwh= np.zeros(wh.shape)\n",
    "wo=np.random.randn(No,Nh);\n",
    "dwo=np.zeros(wo.shape)\n",
    "err=np.array([])\n",
    "acc=np.array([])\n",
    "for trial in range(Ntrials):\n",
    "    h=1/(1+np.exp(-wh@X))\n",
    "    y=1/(1+np.exp(-wo@h))\n",
    "\n",
    "    do=y*(1-y)*(Y-y)\n",
    "    dh=h*(1-h)*(wo.transpose()@do)\n",
    "\n",
    "    dwo=momentum*dwo+do@h.T \n",
    "    wo=wo+alpha*dwo \n",
    "\n",
    "    dwh=momentum*dwh+dh@X.T \n",
    "    wh=wh+alpha*dwh \n",
    "\n",
    "    accuCount = np.sum(np.all(Y == np.round(y), axis = 0))\n",
    "    accuCount =  ((accuCount/train_size))*100;\n",
    "\n",
    "    err=np.append(err, np.sum(abs(Y-np.round(y))) + L2_regularization)\n",
    "    acc=np.append(acc, accuCount)\n",
    "\n",
    "accuracy = np.sum(np.all(Y == np.round(y), axis = 0))\n",
    "accuracy =  ((accuracy/train_size))*100;\n",
    "print(err[-1])\n",
    "import matplotlib.pyplot as plt\n",
    "plt.xlabel(\"Number of Trials\")\n",
    "plt.ylabel(\"Absolute Error\")\n",
    "plt.plot(err)"
   ]
  },
  {
   "cell_type": "code",
   "execution_count": 152,
   "metadata": {
    "colab": {
     "base_uri": "https://localhost:8080/",
     "height": 296
    },
    "id": "LyB3-D190wSs",
    "outputId": "8d039566-9553-4693-d1bb-5d4ec3206689"
   },
   "outputs": [
    {
     "data": {
      "text/plain": [
       "60.05859375"
      ]
     },
     "execution_count": 152,
     "metadata": {
      "tags": []
     },
     "output_type": "execute_result"
    },
    {
     "data": {
      "image/png": "[encoded data removed]",
      "text/plain": [
       "<Figure size 432x288 with 1 Axes>"
      ]
     },
     "metadata": {
      "needs_background": "light",
      "tags": []
     },
     "output_type": "display_data"
    }
   ],
   "source": [
    "plt.plot(acc)\n",
    "plt.xlabel(\"Number of Trials\")\n",
    "plt.ylabel(\"Accuracy\")\n",
    "acc[-1]"
   ]
  },
  {
   "cell_type": "code",
   "execution_count": 150,
   "metadata": {
    "colab": {
     "base_uri": "https://localhost:8080/",
     "height": 51
    },
    "id": "bheetdwz02cB",
    "outputId": "cff0af03-63a4-404b-9ab8-888d9ddef45f"
   },
   "outputs": [
    {
     "name": "stdout",
     "output_type": "stream",
     "text": [
      "err: 560.0\n",
      "accuracy: 60.05859375\n"
     ]
    }
   ],
   "source": [
    "print(\"err:\",err[-1])\n",
    "print(\"accuracy:\",accuracy)"
   ]
  },
  {
   "cell_type": "markdown",
   "metadata": {
    "id": "zSdSbqif_FuA"
   },
   "source": [
    "# Learning Rate"
   ]
  },
  {
   "cell_type": "code",
   "execution_count": 178,
   "metadata": {
    "id": "E7HCPR5u7l38"
   },
   "outputs": [],
   "source": [
    "X=x_train\n",
    "Y=y_train_binary.T\n",
    "Ni =785; Nh=40; No=8;\n",
    "Ntrials=500\n",
    "alpha = 0.0001\n",
    "n=train_size\n",
    "momentum = 0.9"
   ]
  },
  {
   "cell_type": "code",
   "execution_count": 179,
   "metadata": {
    "id": "skN7p9C6-HW1"
   },
   "outputs": [],
   "source": [
    "err_alpha1=np.array([])\n",
    "err_alpha2=np.array([])\n",
    "err_alpha3=np.array([])\n",
    "acc_alpha1=np.array([])\n",
    "acc_alpha2=np.array([])\n",
    "acc_alpha3=np.array([])"
   ]
  },
  {
   "cell_type": "code",
   "execution_count": 180,
   "metadata": {
    "colab": {
     "base_uri": "https://localhost:8080/",
     "height": 51
    },
    "id": "MpQGJYua8QF9",
    "outputId": "7366b4d3-ed4f-4c50-fd74-7bc944190a68"
   },
   "outputs": [
    {
     "name": "stdout",
     "output_type": "stream",
     "text": [
      "66.796875\n"
     ]
    },
    {
     "data": {
      "text/plain": [
       "463.0"
      ]
     },
     "execution_count": 180,
     "metadata": {
      "tags": []
     },
     "output_type": "execute_result"
    }
   ],
   "source": [
    "wh=np.random.randn(Nh, Ni);\n",
    "dwh= np.zeros(wh.shape)\n",
    "wo=np.random.randn(No,Nh);\n",
    "dwo=np.zeros(wo.shape)\n",
    "acc=np.array([])\n",
    "for trial in range(Ntrials):\n",
    "    h=1/(1+np.exp(-wh@X))\n",
    "    y=1/(1+np.exp(-wo@h))\n",
    "\n",
    "    do=y*(1-y)*(Y-y)\n",
    "    dh=h*(1-h)*(wo.transpose()@do)\n",
    "\n",
    "    dwo=momentum*dwo+do@h.T \n",
    "    wo=wo+alpha*dwo \n",
    "\n",
    "    dwh=momentum*dwh+dh@X.T \n",
    "    wh=wh+alpha*dwh \n",
    "\n",
    "    accuCount = np.sum(np.all(Y == np.round(y), axis = 0))\n",
    "    accuCount =  ((accuCount/train_size))*100;\n",
    "\n",
    "    err_alpha1=np.append(err_alpha1, np.sum(abs(Y-np.round(y))))\n",
    "    acc_alpha1=np.append(acc_alpha1, accuCount)\n",
    "\n",
    "accuracy = np.sum(np.all(Y == np.round(y), axis = 0))\n",
    "accuracy =  ((accuracy/train_size))*100;\n",
    "print(accuracy)\n",
    "err_alpha1[-1]"
   ]
  },
  {
   "cell_type": "code",
   "execution_count": 181,
   "metadata": {
    "id": "g450LBWs_oAe"
   },
   "outputs": [],
   "source": [
    "alpha = 0.001"
   ]
  },
  {
   "cell_type": "code",
   "execution_count": 182,
   "metadata": {
    "colab": {
     "base_uri": "https://localhost:8080/",
     "height": 51
    },
    "id": "aZbcktC9_ur6",
    "outputId": "53985789-5b21-4fa9-b7f0-9de926423301"
   },
   "outputs": [
    {
     "name": "stdout",
     "output_type": "stream",
     "text": [
      "94.82421875\n"
     ]
    },
    {
     "data": {
      "text/plain": [
       "60.0"
      ]
     },
     "execution_count": 182,
     "metadata": {
      "tags": []
     },
     "output_type": "execute_result"
    }
   ],
   "source": [
    "wh=np.random.randn(Nh, Ni);\n",
    "dwh= np.zeros(wh.shape)\n",
    "wo=np.random.randn(No,Nh);\n",
    "dwo=np.zeros(wo.shape)\n",
    "acc=np.array([])\n",
    "for trial in range(Ntrials):\n",
    "    h=1/(1+np.exp(-wh@X))\n",
    "    y=1/(1+np.exp(-wo@h))\n",
    "\n",
    "    do=y*(1-y)*(Y-y)\n",
    "    dh=h*(1-h)*(wo.transpose()@do)\n",
    "\n",
    "    dwo=momentum*dwo+do@h.T \n",
    "    wo=wo+alpha*dwo \n",
    "\n",
    "    dwh=momentum*dwh+dh@X.T \n",
    "    wh=wh+alpha*dwh \n",
    "\n",
    "    accuCount = np.sum(np.all(Y == np.round(y), axis = 0))\n",
    "    accuCount =  ((accuCount/train_size))*100;\n",
    "\n",
    "    err_alpha2=np.append(err_alpha2, np.sum(abs(Y-np.round(y))))\n",
    "    acc_alpha2=np.append(acc_alpha2, accuCount)\n",
    "\n",
    "accuracy = np.sum(np.all(Y == np.round(y), axis = 0))\n",
    "accuracy =  ((accuracy/train_size))*100;\n",
    "print(accuracy)\n",
    "err_alpha2[-1]"
   ]
  },
  {
   "cell_type": "code",
   "execution_count": 183,
   "metadata": {
    "id": "GCtBFXvc_9L1"
   },
   "outputs": [],
   "source": [
    "alpha = 0.01"
   ]
  },
  {
   "cell_type": "code",
   "execution_count": 184,
   "metadata": {
    "colab": {
     "base_uri": "https://localhost:8080/",
     "height": 51
    },
    "id": "QxOWxTS4AEmB",
    "outputId": "144a3a0b-2531-48a6-f847-83f7bf7bacc5"
   },
   "outputs": [
    {
     "name": "stdout",
     "output_type": "stream",
     "text": [
      "40.8203125\n"
     ]
    },
    {
     "data": {
      "text/plain": [
       "613.0"
      ]
     },
     "execution_count": 184,
     "metadata": {
      "tags": []
     },
     "output_type": "execute_result"
    }
   ],
   "source": [
    "wh=np.random.randn(Nh, Ni);\n",
    "dwh= np.zeros(wh.shape)\n",
    "wo=np.random.randn(No,Nh);\n",
    "dwo=np.zeros(wo.shape)\n",
    "acc=np.array([])\n",
    "for trial in range(Ntrials):\n",
    "    h=1/(1+np.exp(-wh@X))\n",
    "    y=1/(1+np.exp(-wo@h))\n",
    "\n",
    "    do=y*(1-y)*(Y-y)\n",
    "    dh=h*(1-h)*(wo.transpose()@do)\n",
    "\n",
    "    dwo=momentum*dwo+do@h.T \n",
    "    wo=wo+alpha*dwo \n",
    "\n",
    "    dwh=momentum*dwh+dh@X.T \n",
    "    wh=wh+alpha*dwh \n",
    "\n",
    "    accuCount = np.sum(np.all(Y == np.round(y), axis = 0))\n",
    "    accuCount =  ((accuCount/train_size))*100;\n",
    "\n",
    "    err_alpha3=np.append(err_alpha3, np.sum(abs(Y-np.round(y))))\n",
    "    acc_alpha3=np.append(acc_alpha3, accuCount)\n",
    "\n",
    "accuracy = np.sum(np.all(Y == np.round(y), axis = 0))\n",
    "accuracy =  ((accuracy/train_size))*100;\n",
    "print(accuracy)\n",
    "err_alpha3[-1]"
   ]
  },
  {
   "cell_type": "code",
   "execution_count": 190,
   "metadata": {
    "colab": {
     "base_uri": "https://localhost:8080/",
     "height": 279
    },
    "id": "nsV6_frkAVnJ",
    "outputId": "be5480cb-6741-45dc-f634-3dcd0c886da4"
   },
   "outputs": [
    {
     "data": {
      "image/png": "[encoded data removed]",
      "text/plain": [
       "<Figure size 432x288 with 1 Axes>"
      ]
     },
     "metadata": {
      "needs_background": "light",
      "tags": []
     },
     "output_type": "display_data"
    }
   ],
   "source": [
    "import matplotlib.pyplot as plt\n",
    "plt.xlabel(\"Number of Trials\")\n",
    "plt.ylabel(\"Accuracy\")\n",
    "plt.plot(acc_alpha1)\n",
    "plt.plot(acc_alpha2)\n",
    "plt.plot(acc_alpha3)\n",
    "plt.legend(['alpha=0.0001', 'alpha=0.001', 'alpha=0.01'], loc='upper left')\n",
    "plt.show()"
   ]
  },
  {
   "cell_type": "code",
   "execution_count": 191,
   "metadata": {
    "colab": {
     "base_uri": "https://localhost:8080/",
     "height": 279
    },
    "id": "Jz_w5dwUCWC7",
    "outputId": "41be253c-4b84-494f-b6c4-d6da2dbbdfbc"
   },
   "outputs": [
    {
     "data": {
      "image/png": "[encoded data removed]",
      "text/plain": [
       "<Figure size 432x288 with 1 Axes>"
      ]
     },
     "metadata": {
      "needs_background": "light",
      "tags": []
     },
     "output_type": "display_data"
    }
   ],
   "source": [
    "import matplotlib.pyplot as plt\n",
    "plt.xlabel(\"Number of Trials\")\n",
    "plt.ylabel(\"Absolute Error\")\n",
    "plt.plot(err_alpha1)\n",
    "plt.plot(err_alpha2)\n",
    "plt.plot(err_alpha3)\n",
    "plt.legend(['alpha=0.0001', 'alpha=0.001', 'alpha=0.01'], loc='upper right')\n",
    "plt.show()"
   ]
  },
  {
   "cell_type": "markdown",
   "metadata": {
    "id": "fMV-sRrTEOKC"
   },
   "source": [
    "# Number of neurons"
   ]
  },
  {
   "cell_type": "code",
   "execution_count": 212,
   "metadata": {
    "id": "N093CCawETst"
   },
   "outputs": [],
   "source": [
    "X=x_train\n",
    "Y=y_train_binary.T\n",
    "Ni =785; Nh=40; No=8;\n",
    "Ntrials=500\n",
    "alpha = 0.001\n",
    "n=train_size\n",
    "momentum = 0.9"
   ]
  },
  {
   "cell_type": "code",
   "execution_count": 213,
   "metadata": {
    "id": "v2PFsneIEYAE"
   },
   "outputs": [],
   "source": [
    "err_n1=np.array([])\n",
    "err_n2=np.array([])\n",
    "err_n3=np.array([])\n",
    "acc_n1=np.array([])\n",
    "acc_n2=np.array([])\n",
    "acc_n3=np.array([])"
   ]
  },
  {
   "cell_type": "code",
   "execution_count": 214,
   "metadata": {
    "colab": {
     "base_uri": "https://localhost:8080/",
     "height": 51
    },
    "id": "KkuU0wl_EjqG",
    "outputId": "fc6f27c6-a2a4-4b8d-9877-6aa8510e355c"
   },
   "outputs": [
    {
     "name": "stdout",
     "output_type": "stream",
     "text": [
      "95.41015625\n"
     ]
    },
    {
     "data": {
      "text/plain": [
       "55.0"
      ]
     },
     "execution_count": 214,
     "metadata": {
      "tags": []
     },
     "output_type": "execute_result"
    }
   ],
   "source": [
    "wh=np.random.randn(Nh, Ni);\n",
    "dwh= np.zeros(wh.shape)\n",
    "wo=np.random.randn(No,Nh);\n",
    "dwo=np.zeros(wo.shape)\n",
    "acc=np.array([])\n",
    "for trial in range(Ntrials):\n",
    "    h=1/(1+np.exp(-wh@X))\n",
    "    y=1/(1+np.exp(-wo@h))\n",
    "\n",
    "    do=y*(1-y)*(Y-y)\n",
    "    dh=h*(1-h)*(wo.transpose()@do)\n",
    "\n",
    "    dwo=momentum*dwo+do@h.T \n",
    "    wo=wo+alpha*dwo \n",
    "\n",
    "    dwh=momentum*dwh+dh@X.T \n",
    "    wh=wh+alpha*dwh \n",
    "\n",
    "    accuCount = np.sum(np.all(Y == np.round(y), axis = 0))\n",
    "    accuCount =  ((accuCount/train_size))*100;\n",
    "\n",
    "    err_n1=np.append(err_n1, np.sum(abs(Y-np.round(y))))\n",
    "    acc_n1=np.append(acc_n1, accuCount)\n",
    "\n",
    "accuracy = np.sum(np.all(Y == np.round(y), axis = 0))\n",
    "accuracy =  ((accuracy/train_size))*100;\n",
    "print(accuracy)\n",
    "err_n1[-1]"
   ]
  },
  {
   "cell_type": "code",
   "execution_count": 215,
   "metadata": {
    "id": "bAWVQ3uIE1JA"
   },
   "outputs": [],
   "source": [
    "Nh=100"
   ]
  },
  {
   "cell_type": "code",
   "execution_count": 216,
   "metadata": {
    "colab": {
     "base_uri": "https://localhost:8080/",
     "height": 51
    },
    "id": "FvZA3JiGE42L",
    "outputId": "fe40459a-8d1a-4cf0-a92b-f98f57da5e67"
   },
   "outputs": [
    {
     "name": "stdout",
     "output_type": "stream",
     "text": [
      "79.00390625\n"
     ]
    },
    {
     "data": {
      "text/plain": [
       "217.0"
      ]
     },
     "execution_count": 216,
     "metadata": {
      "tags": []
     },
     "output_type": "execute_result"
    }
   ],
   "source": [
    "wh=np.random.randn(Nh, Ni);\n",
    "dwh= np.zeros(wh.shape)\n",
    "wo=np.random.randn(No,Nh);\n",
    "dwo=np.zeros(wo.shape)\n",
    "acc=np.array([])\n",
    "for trial in range(Ntrials):\n",
    "    h=1/(1+np.exp(-wh@X))\n",
    "    y=1/(1+np.exp(-wo@h))\n",
    "\n",
    "    do=y*(1-y)*(Y-y)\n",
    "    dh=h*(1-h)*(wo.transpose()@do)\n",
    "\n",
    "    dwo=momentum*dwo+do@h.T \n",
    "    wo=wo+alpha*dwo \n",
    "\n",
    "    dwh=momentum*dwh+dh@X.T \n",
    "    wh=wh+alpha*dwh \n",
    "\n",
    "    accuCount = np.sum(np.all(Y == np.round(y), axis = 0))\n",
    "    accuCount =  ((accuCount/train_size))*100;\n",
    "\n",
    "    err_n2=np.append(err_n2, np.sum(abs(Y-np.round(y))))\n",
    "    acc_n2=np.append(acc_n2, accuCount)\n",
    "\n",
    "accuracy = np.sum(np.all(Y == np.round(y), axis = 0))\n",
    "accuracy =  ((accuracy/train_size))*100;\n",
    "print(accuracy)\n",
    "err_n2[-1]"
   ]
  },
  {
   "cell_type": "code",
   "execution_count": 217,
   "metadata": {
    "id": "Rxy4BMnCFGsn"
   },
   "outputs": [],
   "source": [
    "Nh=500"
   ]
  },
  {
   "cell_type": "code",
   "execution_count": 218,
   "metadata": {
    "colab": {
     "base_uri": "https://localhost:8080/",
     "height": 51
    },
    "id": "2kvkJPASFKNi",
    "outputId": "ba725c39-e8eb-43ba-ceeb-a20e48347689"
   },
   "outputs": [
    {
     "name": "stdout",
     "output_type": "stream",
     "text": [
      "36.71875\n"
     ]
    },
    {
     "data": {
      "text/plain": [
       "690.0"
      ]
     },
     "execution_count": 218,
     "metadata": {
      "tags": []
     },
     "output_type": "execute_result"
    }
   ],
   "source": [
    "wh=np.random.randn(Nh, Ni);\n",
    "dwh= np.zeros(wh.shape)\n",
    "wo=np.random.randn(No,Nh);\n",
    "dwo=np.zeros(wo.shape)\n",
    "acc=np.array([])\n",
    "for trial in range(Ntrials):\n",
    "    h=1/(1+np.exp(-wh@X))\n",
    "    y=1/(1+np.exp(-wo@h))\n",
    "\n",
    "    do=y*(1-y)*(Y-y)\n",
    "    dh=h*(1-h)*(wo.transpose()@do)\n",
    "\n",
    "    dwo=momentum*dwo+do@h.T \n",
    "    wo=wo+alpha*dwo \n",
    "\n",
    "    dwh=momentum*dwh+dh@X.T \n",
    "    wh=wh+alpha*dwh \n",
    "\n",
    "    accuCount = np.sum(np.all(Y == np.round(y), axis = 0))\n",
    "    accuCount =  ((accuCount/train_size))*100;\n",
    "\n",
    "    err_n3=np.append(err_n3, np.sum(abs(Y-np.round(y))))\n",
    "    acc_n3=np.append(acc_n3, accuCount)\n",
    "\n",
    "accuracy = np.sum(np.all(Y == np.round(y), axis = 0))\n",
    "accuracy =  ((accuracy/train_size))*100;\n",
    "print(accuracy)\n",
    "err_n3[-1]"
   ]
  },
  {
   "cell_type": "code",
   "execution_count": 219,
   "metadata": {
    "colab": {
     "base_uri": "https://localhost:8080/",
     "height": 283
    },
    "id": "RznwRtuIGG74",
    "outputId": "710bb56a-fd6f-4602-afdd-94f4aa5cfa4d"
   },
   "outputs": [
    {
     "data": {
      "image/png": "[encoded data removed]",
      "text/plain": [
       "<Figure size 432x288 with 1 Axes>"
      ]
     },
     "metadata": {
      "needs_background": "light",
      "tags": []
     },
     "output_type": "display_data"
    }
   ],
   "source": [
    "import matplotlib.pyplot as plt\n",
    "plt.xlabel(\"Number of Trials\")\n",
    "plt.ylabel(\"Accuracy\")\n",
    "plt.plot(acc_n1)\n",
    "plt.plot(acc_n2)\n",
    "plt.plot(acc_n3)\n",
    "plt.legend(['neurons=40', 'neurons=100', 'neurons=500'], loc='upper left')\n",
    "plt.show()"
   ]
  },
  {
   "cell_type": "code",
   "execution_count": 221,
   "metadata": {
    "colab": {
     "base_uri": "https://localhost:8080/",
     "height": 279
    },
    "id": "JMf7FzfOGZN-",
    "outputId": "345f714a-6c6c-4466-b65b-a17353ec3d49"
   },
   "outputs": [
    {
     "data": {
      "image/png": "[encoded data removed]",
      "text/plain": [
       "<Figure size 432x288 with 1 Axes>"
      ]
     },
     "metadata": {
      "needs_background": "light",
      "tags": []
     },
     "output_type": "display_data"
    }
   ],
   "source": [
    "plt.xlabel(\"Number of Trials\")\n",
    "plt.ylabel(\"Absolute Error\")\n",
    "plt.plot(err_n1)\n",
    "plt.plot(err_n2)\n",
    "plt.plot(err_n3)\n",
    "plt.legend(['neurons=40', 'neurons=100', 'neurons=500'], loc='upper right')\n",
    "plt.show()"
   ]
  },
  {
   "cell_type": "markdown",
   "metadata": {
    "id": "e-Yx5y88IGY7"
   },
   "source": [
    "# Number of layers"
   ]
  },
  {
   "cell_type": "code",
   "execution_count": 32,
   "metadata": {
    "id": "cclttdlnIMSp"
   },
   "outputs": [],
   "source": [
    "X=x_train\n",
    "Y=y_train_binary.T\n",
    "Ni =785; Nh=40; No=8;\n",
    "Ntrials=500\n",
    "alpha = 0.001\n",
    "n=train_size\n",
    "momentum = 0.9"
   ]
  },
  {
   "cell_type": "code",
   "execution_count": 33,
   "metadata": {
    "id": "tW1XZiSPKcY1"
   },
   "outputs": [],
   "source": [
    "err_l1=np.array([])\n",
    "err_l3=np.array([])\n",
    "err_l5=np.array([])\n",
    "acc_l1=np.array([])\n",
    "acc_l3=np.array([])\n",
    "acc_l5=np.array([])"
   ]
  },
  {
   "cell_type": "code",
   "execution_count": 34,
   "metadata": {
    "colab": {
     "base_uri": "https://localhost:8080/",
     "height": 51
    },
    "id": "EQ4le0mRL9GQ",
    "outputId": "6555604d-96e1-4012-ab0e-84b11c33905a"
   },
   "outputs": [
    {
     "name": "stdout",
     "output_type": "stream",
     "text": [
      "77.5390625\n"
     ]
    },
    {
     "data": {
      "text/plain": [
       "244.0"
      ]
     },
     "execution_count": 34,
     "metadata": {
      "tags": []
     },
     "output_type": "execute_result"
    }
   ],
   "source": [
    "wh=np.random.randn(Nh, Ni);\n",
    "dwh= np.zeros(wh.shape)\n",
    "wo=np.random.randn(No,Nh);\n",
    "dwo=np.zeros(wo.shape)\n",
    "acc=np.array([])\n",
    "for trial in range(Ntrials):\n",
    "    h=1/(1+np.exp(-wh@X))\n",
    "    y=1/(1+np.exp(-wo@h))\n",
    "\n",
    "    do=y*(1-y)*(Y-y)\n",
    "    dh=h*(1-h)*(wo.transpose()@do)\n",
    "\n",
    "    dwo=momentum*dwo+do@h.T \n",
    "    wo=wo+alpha*dwo \n",
    "\n",
    "    dwh=momentum*dwh+dh@X.T \n",
    "    wh=wh+alpha*dwh \n",
    "\n",
    "    accuCount = np.sum(np.all(Y == np.round(y), axis = 0))\n",
    "    accuCount =  ((accuCount/train_size))*100;\n",
    "\n",
    "    err_l1=np.append(err_l1, np.sum(abs(Y-np.round(y))))\n",
    "    acc_l1=np.append(acc_l1, accuCount)\n",
    "\n",
    "accuracy = np.sum(np.all(Y == np.round(y), axis = 0))\n",
    "accuracy =  ((accuracy/train_size))*100;\n",
    "print(accuracy)\n",
    "err_l1[-1]"
   ]
  },
  {
   "cell_type": "code",
   "execution_count": 35,
   "metadata": {
    "id": "js7FC8dpMbDz"
   },
   "outputs": [],
   "source": [
    "Ni =785; Nh1=40; Nh2=40; Nh3=40; No=8;"
   ]
  },
  {
   "cell_type": "code",
   "execution_count": 36,
   "metadata": {
    "colab": {
     "base_uri": "https://localhost:8080/",
     "height": 51
    },
    "id": "9rtaKXisMp5X",
    "outputId": "a9a48dbc-e03a-4592-8315-49ce9b4fbd83"
   },
   "outputs": [
    {
     "name": "stdout",
     "output_type": "stream",
     "text": [
      "96.38671875\n"
     ]
    },
    {
     "data": {
      "text/plain": [
       "42.0"
      ]
     },
     "execution_count": 36,
     "metadata": {
      "tags": []
     },
     "output_type": "execute_result"
    }
   ],
   "source": [
    "wh1=np.random.randn(Nh1, Ni);\n",
    "dwh1= np.zeros(wh1.shape);\n",
    "\n",
    "wh2=np.random.randn(Nh2, Nh1);\n",
    "dwh2= np.zeros(wh2.shape);\n",
    "\n",
    "wh3=np.random.randn(Nh3, Nh2);\n",
    "dwh3= np.zeros(wh3.shape);\n",
    "\n",
    "wo=np.random.randn(No,Nh3);\n",
    "dwo=np.zeros(wo.shape)\n",
    "\n",
    "for trial in range(Ntrials):\n",
    "\n",
    "    h1=1/(1+np.exp(-wh1@X))\n",
    "    \n",
    "    h2=1/(1+np.exp(-wh2@h1))\n",
    "\n",
    "    h3=1/(1+np.exp(-wh3@h2))\n",
    "\n",
    "    y=1/(1+np.exp(-wo@h3))\n",
    "\n",
    "    do=y*(1-y)*(Y-y)\n",
    "    dwo=momentum*dwo+do@h3.T\n",
    "    wo=wo+alpha*dwo\n",
    "\n",
    "    dh3=h3*(1-h3)*(wo.transpose()@do)\n",
    "    dwh3=momentum*dwh3+dh3@h2.T\n",
    "    wh3=wh3+alpha*dwh3\n",
    "\n",
    "    dh2=h2*(1-h2)*(wh3.transpose()@dh3)\n",
    "    dwh2=momentum*dwh2+dh2@h1.T\n",
    "    wh2=wh2+alpha*dwh2\n",
    "\n",
    "    dh1=h1*(1-h1)*(wh2.transpose()@dh2)\n",
    "    dwh1=momentum*dwh1+dh1@X.T\n",
    "    wh1=wh1+alpha*dwh1\n",
    "\n",
    "    accuCount = np.sum(np.all(Y == np.round(y), axis = 0))\n",
    "    accuCount =  ((accuCount/train_size))*100;\n",
    "    \n",
    "    err_l3=np.append(err_l3, np.sum(abs(Y-np.round(y))))\n",
    "    acc_l3=np.append(acc_l3, accuCount)\n",
    "\n",
    "accuracy = np.sum(np.all(Y == np.round(y), axis = 0))\n",
    "accuracy =  ((accuracy/train_size))*100;\n",
    "print(accuracy)\n",
    "err_l3[-1]\n"
   ]
  },
  {
   "cell_type": "code",
   "execution_count": 37,
   "metadata": {
    "id": "evwvvGhmMz7p"
   },
   "outputs": [],
   "source": [
    "Ni =785; Nh1=128; Nh2=128; Nh3=128; Nh4=128; Nh5=128; No=8;"
   ]
  },
  {
   "cell_type": "code",
   "execution_count": 38,
   "metadata": {
    "colab": {
     "base_uri": "https://localhost:8080/",
     "height": 51
    },
    "id": "zrX7q6k1MzvX",
    "outputId": "8e507635-2b68-4ada-974b-b5f6674cf91a"
   },
   "outputs": [
    {
     "name": "stdout",
     "output_type": "stream",
     "text": [
      "20.60546875\n"
     ]
    },
    {
     "data": {
      "text/plain": [
       "1103.0"
      ]
     },
     "execution_count": 38,
     "metadata": {
      "tags": []
     },
     "output_type": "execute_result"
    }
   ],
   "source": [
    "wh1=np.random.randn(Nh1, Ni);\n",
    "dwh1= np.zeros(wh1.shape);\n",
    "\n",
    "wh2=np.random.randn(Nh2, Nh1);\n",
    "dwh2= np.zeros(wh2.shape);\n",
    "\n",
    "wh3=np.random.randn(Nh3, Nh2);\n",
    "dwh3= np.zeros(wh3.shape);\n",
    "\n",
    "wh4=np.random.randn(Nh4, Nh3);\n",
    "dwh4= np.zeros(wh4.shape);\n",
    "\n",
    "wh5=np.random.randn(Nh5, Nh4);\n",
    "dwh5= np.zeros(wh5.shape);\n",
    "\n",
    "wo=np.random.randn(No,Nh5);\n",
    "dwo=np.zeros(wo.shape)\n",
    "\n",
    "\n",
    "for trial in range(Ntrials):\n",
    "\n",
    "    h1=1/(1+np.exp(-wh1@X))\n",
    "    \n",
    "    h2=1/(1+np.exp(-wh2@h1))\n",
    "\n",
    "    h3=1/(1+np.exp(-wh3@h2))\n",
    "\n",
    "    h4=1/(1+np.exp(-wh4@h3))\n",
    "\n",
    "    h5=1/(1+np.exp(-wh5@h4))\n",
    "\n",
    "    y=1/(1+np.exp(-wo@h5))\n",
    "\n",
    "    do=y*(1-y)*(Y-y)\n",
    "    dwo=momentum*dwo+do@h5.T\n",
    "    wo=wo+alpha*dwo\n",
    "\n",
    "    dh5=h5*(1-h5)*(wo.transpose()@do)\n",
    "    dwh5=momentum*dwh5+dh5@h4.T\n",
    "    wh5=wh5+alpha*dwh5\n",
    "\n",
    "    dh4=h4*(1-h4)*(wh5.transpose()@dh5)\n",
    "    dwh4=momentum*dwh4+dh4@h3.T\n",
    "    wh4=wh4+alpha*dwh4\n",
    "\n",
    "    dh3=h3*(1-h3)*(wh4.transpose()@dh4)\n",
    "    dwh3=momentum*dwh3+dh3@h2.T\n",
    "    wh3=wh3+alpha*dwh3\n",
    "\n",
    "    dh2=h2*(1-h2)*(wh3.transpose()@dh3)\n",
    "    dwh2=momentum*dwh2+dh2@h1.T\n",
    "    wh2=wh2+alpha*dwh2\n",
    "\n",
    "    dh1=h1*(1-h1)*(wh2.transpose()@dh2)\n",
    "    dwh1=momentum*dwh1+dh1@X.T\n",
    "    wh1=wh1+alpha*dwh1\n",
    "\n",
    "    accuCount = np.sum(np.all(Y == np.round(y), axis = 0))\n",
    "    accuCount =  ((accuCount/train_size))*100;\n",
    "\n",
    "    err_l5=np.append(err_l5, np.sum(abs(Y-np.round(y))))\n",
    "    acc_l5=np.append(acc_l5, accuCount)\n",
    "\n",
    "accuracy = np.sum(np.all(Y == np.round(y), axis = 0))\n",
    "accuracy =  ((accuracy/train_size))*100;\n",
    "print(accuracy)\n",
    "err_l5[-1]\n"
   ]
  },
  {
   "cell_type": "code",
   "execution_count": 41,
   "metadata": {
    "colab": {
     "base_uri": "https://localhost:8080/",
     "height": 281
    },
    "id": "N5KkcSjMPJyq",
    "outputId": "6d5067f9-bedc-4115-c27a-f17fdf69894c"
   },
   "outputs": [
    {
     "data": {
      "image/png": "[encoded data removed]",
      "text/plain": [
       "<Figure size 432x288 with 1 Axes>"
      ]
     },
     "metadata": {
      "needs_background": "light",
      "tags": []
     },
     "output_type": "display_data"
    }
   ],
   "source": [
    "import matplotlib.pyplot as plt\n",
    "plt.xlabel(\"Number of Trials\")\n",
    "plt.ylabel(\"Accuracy\")\n",
    "plt.plot(acc_l1)\n",
    "plt.plot(acc_l3)\n",
    "plt.plot(acc_l5)\n",
    "plt.legend(['layers=1', 'layers=3', 'layers=5'], loc='upper left')\n",
    "plt.show()"
   ]
  },
  {
   "cell_type": "code",
   "execution_count": 40,
   "metadata": {
    "colab": {
     "base_uri": "https://localhost:8080/",
     "height": 279
    },
    "id": "0MbrQG-iP4s3",
    "outputId": "c836a174-7d2a-4d04-dd95-ae2b82157e98"
   },
   "outputs": [
    {
     "data": {
      "image/png": "[encoded data removed]",
      "text/plain": [
       "<Figure size 432x288 with 1 Axes>"
      ]
     },
     "metadata": {
      "needs_background": "light",
      "tags": []
     },
     "output_type": "display_data"
    }
   ],
   "source": [
    "plt.xlabel(\"Number of Trials\")\n",
    "plt.ylabel(\"Absolute Error\")\n",
    "plt.plot(err_l1)\n",
    "plt.plot(err_l3)\n",
    "plt.plot(err_l5)\n",
    "plt.legend(['layers=1', 'layers=3', 'layers=5'], loc='upper right')\n",
    "plt.show()"
   ]
  },
  {
   "cell_type": "markdown",
   "metadata": {
    "id": "W3tTh1a9RCLP"
   },
   "source": [
    "# Number of Trials"
   ]
  },
  {
   "cell_type": "code",
   "execution_count": 50,
   "metadata": {
    "id": "RMau0OqdRFYp"
   },
   "outputs": [],
   "source": [
    "X=x_train\n",
    "Y=y_train_binary.T\n",
    "Ni =785; Nh1=40; Nh2=40; Nh3=40; No=8;\n",
    "Ntrials=100\n",
    "alpha = 0.001\n",
    "n=train_size\n",
    "momentum = 0.9"
   ]
  },
  {
   "cell_type": "code",
   "execution_count": 51,
   "metadata": {
    "id": "w62fab1FRn4v"
   },
   "outputs": [],
   "source": [
    "err_t1=np.array([])\n",
    "err_t2=np.array([])\n",
    "err_t3=np.array([])\n",
    "acc_t1=np.array([])\n",
    "acc_t2=np.array([])\n",
    "acc_t3=np.array([])"
   ]
  },
  {
   "cell_type": "code",
   "execution_count": 52,
   "metadata": {
    "colab": {
     "base_uri": "https://localhost:8080/",
     "height": 51
    },
    "id": "ML08QOfiRi7A",
    "outputId": "2ba0f870-fa5d-4e1c-83f7-5ec7a7e78b5b"
   },
   "outputs": [
    {
     "name": "stdout",
     "output_type": "stream",
     "text": [
      "71.875\n"
     ]
    },
    {
     "data": {
      "text/plain": [
       "375.0"
      ]
     },
     "execution_count": 52,
     "metadata": {
      "tags": []
     },
     "output_type": "execute_result"
    }
   ],
   "source": [
    "wh1=np.random.randn(Nh1, Ni);\n",
    "dwh1= np.zeros(wh1.shape);\n",
    "\n",
    "wh2=np.random.randn(Nh2, Nh1);\n",
    "dwh2= np.zeros(wh2.shape);\n",
    "\n",
    "wh3=np.random.randn(Nh3, Nh2);\n",
    "dwh3= np.zeros(wh3.shape);\n",
    "\n",
    "wo=np.random.randn(No,Nh3);\n",
    "dwo=np.zeros(wo.shape)\n",
    "\n",
    "for trial in range(Ntrials):\n",
    "\n",
    "    h1=1/(1+np.exp(-wh1@X))\n",
    "    \n",
    "    h2=1/(1+np.exp(-wh2@h1))\n",
    "\n",
    "    h3=1/(1+np.exp(-wh3@h2))\n",
    "\n",
    "    y=1/(1+np.exp(-wo@h3))\n",
    "\n",
    "    do=y*(1-y)*(Y-y)\n",
    "    dwo=momentum*dwo+do@h3.T\n",
    "    wo=wo+alpha*dwo\n",
    "\n",
    "    dh3=h3*(1-h3)*(wo.transpose()@do)\n",
    "    dwh3=momentum*dwh3+dh3@h2.T\n",
    "    wh3=wh3+alpha*dwh3\n",
    "\n",
    "    dh2=h2*(1-h2)*(wh3.transpose()@dh3)\n",
    "    dwh2=momentum*dwh2+dh2@h1.T\n",
    "    wh2=wh2+alpha*dwh2\n",
    "\n",
    "    dh1=h1*(1-h1)*(wh2.transpose()@dh2)\n",
    "    dwh1=momentum*dwh1+dh1@X.T\n",
    "    wh1=wh1+alpha*dwh1\n",
    "\n",
    "    accuCount = np.sum(np.all(Y == np.round(y), axis = 0))\n",
    "    accuCount =  ((accuCount/train_size))*100;\n",
    "    \n",
    "    err_t1=np.append(err_t1, np.sum(abs(Y-np.round(y))))\n",
    "    acc_t1=np.append(acc_t1, accuCount)\n",
    "\n",
    "accuracy = np.sum(np.all(Y == np.round(y), axis = 0))\n",
    "accuracy =  ((accuracy/train_size))*100;\n",
    "print(accuracy)\n",
    "err_t1[-1]"
   ]
  },
  {
   "cell_type": "code",
   "execution_count": 53,
   "metadata": {
    "id": "yliVhGy9R-ih"
   },
   "outputs": [],
   "source": [
    "Ntrials=500"
   ]
  },
  {
   "cell_type": "code",
   "execution_count": 54,
   "metadata": {
    "colab": {
     "base_uri": "https://localhost:8080/",
     "height": 51
    },
    "id": "Oj1f_X43SB8n",
    "outputId": "24fd1f9c-2f5b-48b1-fd06-859cb0bdcbe8"
   },
   "outputs": [
    {
     "name": "stdout",
     "output_type": "stream",
     "text": [
      "98.6328125\n"
     ]
    },
    {
     "data": {
      "text/plain": [
       "16.0"
      ]
     },
     "execution_count": 54,
     "metadata": {
      "tags": []
     },
     "output_type": "execute_result"
    }
   ],
   "source": [
    "wh1=np.random.randn(Nh1, Ni);\n",
    "dwh1= np.zeros(wh1.shape);\n",
    "\n",
    "wh2=np.random.randn(Nh2, Nh1);\n",
    "dwh2= np.zeros(wh2.shape);\n",
    "\n",
    "wh3=np.random.randn(Nh3, Nh2);\n",
    "dwh3= np.zeros(wh3.shape);\n",
    "\n",
    "wo=np.random.randn(No,Nh3);\n",
    "dwo=np.zeros(wo.shape)\n",
    "\n",
    "for trial in range(Ntrials):\n",
    "\n",
    "    h1=1/(1+np.exp(-wh1@X))\n",
    "    \n",
    "    h2=1/(1+np.exp(-wh2@h1))\n",
    "\n",
    "    h3=1/(1+np.exp(-wh3@h2))\n",
    "\n",
    "    y=1/(1+np.exp(-wo@h3))\n",
    "\n",
    "    do=y*(1-y)*(Y-y)\n",
    "    dwo=momentum*dwo+do@h3.T\n",
    "    wo=wo+alpha*dwo\n",
    "\n",
    "    dh3=h3*(1-h3)*(wo.transpose()@do)\n",
    "    dwh3=momentum*dwh3+dh3@h2.T\n",
    "    wh3=wh3+alpha*dwh3\n",
    "\n",
    "    dh2=h2*(1-h2)*(wh3.transpose()@dh3)\n",
    "    dwh2=momentum*dwh2+dh2@h1.T\n",
    "    wh2=wh2+alpha*dwh2\n",
    "\n",
    "    dh1=h1*(1-h1)*(wh2.transpose()@dh2)\n",
    "    dwh1=momentum*dwh1+dh1@X.T\n",
    "    wh1=wh1+alpha*dwh1\n",
    "\n",
    "    accuCount = np.sum(np.all(Y == np.round(y), axis = 0))\n",
    "    accuCount =  ((accuCount/train_size))*100;\n",
    "    \n",
    "    err_t2=np.append(err_t2, np.sum(abs(Y-np.round(y))))\n",
    "    acc_t2=np.append(acc_t2, accuCount)\n",
    "\n",
    "accuracy = np.sum(np.all(Y == np.round(y), axis = 0))\n",
    "accuracy =  ((accuracy/train_size))*100;\n",
    "print(accuracy)\n",
    "err_t2[-1]"
   ]
  },
  {
   "cell_type": "code",
   "execution_count": 55,
   "metadata": {
    "id": "sSj3QxCeSZRr"
   },
   "outputs": [],
   "source": [
    "Ntrials=1000"
   ]
  },
  {
   "cell_type": "code",
   "execution_count": 56,
   "metadata": {
    "colab": {
     "base_uri": "https://localhost:8080/",
     "height": 51
    },
    "id": "9QRoBNc0ScpD",
    "outputId": "8b4de3e9-e2ca-4359-c9b3-9a7d22047f8a"
   },
   "outputs": [
    {
     "name": "stdout",
     "output_type": "stream",
     "text": [
      "98.4375\n"
     ]
    },
    {
     "data": {
      "text/plain": [
       "16.0"
      ]
     },
     "execution_count": 56,
     "metadata": {
      "tags": []
     },
     "output_type": "execute_result"
    }
   ],
   "source": [
    "wh1=np.random.randn(Nh1, Ni);\n",
    "dwh1= np.zeros(wh1.shape);\n",
    "\n",
    "wh2=np.random.randn(Nh2, Nh1);\n",
    "dwh2= np.zeros(wh2.shape);\n",
    "\n",
    "wh3=np.random.randn(Nh3, Nh2);\n",
    "dwh3= np.zeros(wh3.shape);\n",
    "\n",
    "wo=np.random.randn(No,Nh3);\n",
    "dwo=np.zeros(wo.shape)\n",
    "\n",
    "for trial in range(Ntrials):\n",
    "\n",
    "    h1=1/(1+np.exp(-wh1@X))\n",
    "    \n",
    "    h2=1/(1+np.exp(-wh2@h1))\n",
    "\n",
    "    h3=1/(1+np.exp(-wh3@h2))\n",
    "\n",
    "    y=1/(1+np.exp(-wo@h3))\n",
    "\n",
    "    do=y*(1-y)*(Y-y)\n",
    "    dwo=momentum*dwo+do@h3.T\n",
    "    wo=wo+alpha*dwo\n",
    "\n",
    "    dh3=h3*(1-h3)*(wo.transpose()@do)\n",
    "    dwh3=momentum*dwh3+dh3@h2.T\n",
    "    wh3=wh3+alpha*dwh3\n",
    "\n",
    "    dh2=h2*(1-h2)*(wh3.transpose()@dh3)\n",
    "    dwh2=momentum*dwh2+dh2@h1.T\n",
    "    wh2=wh2+alpha*dwh2\n",
    "\n",
    "    dh1=h1*(1-h1)*(wh2.transpose()@dh2)\n",
    "    dwh1=momentum*dwh1+dh1@X.T\n",
    "    wh1=wh1+alpha*dwh1\n",
    "\n",
    "    accuCount = np.sum(np.all(Y == np.round(y), axis = 0))\n",
    "    accuCount =  ((accuCount/train_size))*100;\n",
    "    \n",
    "    err_t3=np.append(err_t3, np.sum(abs(Y-np.round(y))))\n",
    "    acc_t3=np.append(acc_t3, accuCount)\n",
    "\n",
    "accuracy = np.sum(np.all(Y == np.round(y), axis = 0))\n",
    "accuracy =  ((accuracy/train_size))*100;\n",
    "print(accuracy)\n",
    "err_t3[-1]"
   ]
  },
  {
   "cell_type": "code",
   "execution_count": 58,
   "metadata": {
    "colab": {
     "base_uri": "https://localhost:8080/",
     "height": 279
    },
    "id": "4HfvGlDLTB_j",
    "outputId": "a43c471c-a388-4859-a881-726c7d749ac0"
   },
   "outputs": [
    {
     "data": {
      "image/png": "[encoded data removed]",
      "text/plain": [
       "<Figure size 432x288 with 1 Axes>"
      ]
     },
     "metadata": {
      "needs_background": "light",
      "tags": []
     },
     "output_type": "display_data"
    }
   ],
   "source": [
    "import matplotlib.pyplot as plt\n",
    "plt.xlabel(\"Number of Trials\")\n",
    "plt.ylabel(\"Accuracy\")\n",
    "plt.plot(acc_t1)\n",
    "plt.plot(acc_t2)\n",
    "plt.plot(acc_t3)\n",
    "plt.legend(['trials=100', 'trials=500', 'trials=1000'], loc='upper right')\n",
    "plt.show()"
   ]
  },
  {
   "cell_type": "code",
   "execution_count": 59,
   "metadata": {
    "colab": {
     "base_uri": "https://localhost:8080/",
     "height": 279
    },
    "id": "qH4UaZMTTa_q",
    "outputId": "0e981875-9257-4629-be55-5bb9ac83ce1a"
   },
   "outputs": [
    {
     "data": {
      "image/png": "[encoded data removed]",
      "text/plain": [
       "<Figure size 432x288 with 1 Axes>"
      ]
     },
     "metadata": {
      "needs_background": "light",
      "tags": []
     },
     "output_type": "display_data"
    }
   ],
   "source": [
    "plt.xlabel(\"Number of Trials\")\n",
    "plt.ylabel(\"Absolute Error\")\n",
    "plt.plot(err_t1)\n",
    "plt.plot(err_t2)\n",
    "plt.plot(err_t3)\n",
    "plt.legend(['trials=100', 'trials=500', 'trials=1000'], loc='upper right')\n",
    "plt.show()"
   ]
  },
  {
   "cell_type": "markdown",
   "metadata": {
    "id": "2e1sjGFzVwHi"
   },
   "source": [
    "# Testing"
   ]
  },
  {
   "cell_type": "code",
   "execution_count": 203,
   "metadata": {
    "id": "mfzHl4X4V06E"
   },
   "outputs": [],
   "source": [
    "X=x_train\n",
    "Y=y_train_binary.T\n",
    "Ni =785; Nh1=40; Nh2=40; Nh3=40; No=8;\n",
    "Ntrials=500\n",
    "alpha = 0.001\n",
    "n=train_size\n",
    "momentum = 0.9"
   ]
  },
  {
   "cell_type": "code",
   "execution_count": 204,
   "metadata": {
    "id": "djGAqbp5WBNc"
   },
   "outputs": [],
   "source": [
    "err_final=np.array([])\n",
    "acc_final=np.array([])"
   ]
  },
  {
   "cell_type": "code",
   "execution_count": 205,
   "metadata": {
    "colab": {
     "base_uri": "https://localhost:8080/",
     "height": 51
    },
    "id": "Sd5i16GTWSW7",
    "outputId": "c1b2a8b9-bf3c-4070-d19c-85d137aa29d7"
   },
   "outputs": [
    {
     "name": "stdout",
     "output_type": "stream",
     "text": [
      "79.6875\n"
     ]
    },
    {
     "data": {
      "text/plain": [
       "211.0"
      ]
     },
     "execution_count": 205,
     "metadata": {
      "tags": []
     },
     "output_type": "execute_result"
    }
   ],
   "source": [
    "wh1=np.random.randn(Nh1, Ni);\n",
    "dwh1= np.zeros(wh1.shape);\n",
    "\n",
    "wh2=np.random.randn(Nh2, Nh1);\n",
    "dwh2= np.zeros(wh2.shape);\n",
    "\n",
    "wh3=np.random.randn(Nh3, Nh2);\n",
    "dwh3= np.zeros(wh3.shape);\n",
    "\n",
    "wo=np.random.randn(No,Nh3);\n",
    "dwo=np.zeros(wo.shape)\n",
    "\n",
    "for trial in range(Ntrials):\n",
    "\n",
    "    h1=1/(1+np.exp(-wh1@X))\n",
    "    \n",
    "    h2=1/(1+np.exp(-wh2@h1))\n",
    "\n",
    "    h3=1/(1+np.exp(-wh3@h2))\n",
    "\n",
    "    y=1/(1+np.exp(-wo@h3))\n",
    "\n",
    "    do=y*(1-y)*(Y-y)\n",
    "    dwo=momentum*dwo+do@h3.T\n",
    "    wo=wo+alpha*dwo\n",
    "\n",
    "    dh3=h3*(1-h3)*(wo.transpose()@do)\n",
    "    dwh3=momentum*dwh3+dh3@h2.T\n",
    "    wh3=wh3+alpha*dwh3\n",
    "\n",
    "    dh2=h2*(1-h2)*(wh3.transpose()@dh3)\n",
    "    dwh2=momentum*dwh2+dh2@h1.T\n",
    "    wh2=wh2+alpha*dwh2\n",
    "\n",
    "    dh1=h1*(1-h1)*(wh2.transpose()@dh2)\n",
    "    dwh1=momentum*dwh1+dh1@X.T\n",
    "    wh1=wh1+alpha*dwh1\n",
    "\n",
    "    accuCount = np.sum(np.all(Y == np.round(y), axis = 0))\n",
    "    accuCount =  ((accuCount/train_size))*100;\n",
    "    \n",
    "    err_final=np.append(err_final, np.sum(abs(Y-np.round(y))))\n",
    "    acc_final=np.append(acc_final, accuCount)\n",
    "\n",
    "accuracy = np.sum(np.all(Y == np.round(y), axis = 0))\n",
    "accuracy =  ((accuracy/train_size))*100;\n",
    "print(accuracy)\n",
    "err_final[-1]"
   ]
  },
  {
   "cell_type": "code",
   "execution_count": 206,
   "metadata": {
    "colab": {
     "base_uri": "https://localhost:8080/",
     "height": 51
    },
    "id": "9_FxfUGwWexu",
    "outputId": "312ef46e-dafd-4818-db6e-4337be49b3a7"
   },
   "outputs": [
    {
     "name": "stdout",
     "output_type": "stream",
     "text": [
      "736.3043719569393\n",
      "53.80859375\n"
     ]
    }
   ],
   "source": [
    "X_test = x_test\n",
    "Y_test=y_test_binary.T\n",
    "\n",
    "h1=1/(1+np.exp(-wh1@X_test))\n",
    "    \n",
    "h2=1/(1+np.exp(-wh2@h1))\n",
    "\n",
    "h3=1/(1+np.exp(-wh3@h2))\n",
    "\n",
    "y_test_predicted=1/(1+np.exp(-wo@h3))\n",
    "\n",
    "\n",
    "err_pre = np.sum(abs(Y_test-y_test_predicted))\n",
    "\n",
    "accuracy_pre = np.sum(np.all(Y_test == np.round(y_test_predicted), axis = 0))\n",
    "accuracy_pre =  ((accuracy_pre/train_size))*100;\n",
    "print(err_pre)\n",
    "print(accuracy_pre)"
   ]
  },
  {
   "cell_type": "code",
   "execution_count": 207,
   "metadata": {
    "colab": {
     "base_uri": "https://localhost:8080/",
     "height": 51
    },
    "id": "OLY9Ama8v5My",
    "outputId": "6b82e65b-dd59-4d95-f2c7-c5f6f3ab3e29"
   },
   "outputs": [
    {
     "name": "stdout",
     "output_type": "stream",
     "text": [
      "1239.8758080794596\n",
      "24.51171875\n"
     ]
    }
   ],
   "source": [
    "import cv2\n",
    "# Blur \n",
    "x_test_noise = cv2.GaussianBlur(x_test,(5,5), 0)\n",
    "\n",
    "\n",
    "h1=1/(1+np.exp(-wh1@x_test_noise))\n",
    "    \n",
    "h2=1/(1+np.exp(-wh2@h1))\n",
    "\n",
    "h3=1/(1+np.exp(-wh3@h2))\n",
    "\n",
    "y_test_predicted_noise=1/(1+np.exp(-wo@h3))\n",
    "\n",
    "err_pre_noise = np.sum(abs(Y_test-y_test_predicted_noise))\n",
    "\n",
    "accuracy_noise = np.sum(np.all(Y_test == np.round(y_test_predicted_noise), axis = 0))\n",
    "accuracy_noise =  ((accuracy_noise/train_size))*100;\n",
    "print(err_pre_noise)\n",
    "print(accuracy_noise)"
   ]
  },
  {
   "cell_type": "markdown",
   "metadata": {
    "id": "ceDpZ4-lYdO-"
   },
   "source": [
    "# Regularization"
   ]
  },
  {
   "cell_type": "markdown",
   "metadata": {
    "id": "uVOytuLRYgys"
   },
   "source": [
    "L2 regularization"
   ]
  },
  {
   "cell_type": "code",
   "execution_count": 208,
   "metadata": {
    "id": "WV1ByAUmYlHM"
   },
   "outputs": [],
   "source": [
    "X=x_train\n",
    "Y=y_train_binary.T\n",
    "Ni =785; Nh1=40; Nh2=40; Nh3=40; No=8;\n",
    "Ntrials=500\n",
    "alpha = 0.001\n",
    "Lambda=0.001\n",
    "n=train_size\n",
    "momentum = 0.9"
   ]
  },
  {
   "cell_type": "code",
   "execution_count": 209,
   "metadata": {
    "id": "a71xeteAlD1C"
   },
   "outputs": [],
   "source": [
    "err_l2=np.array([])\n",
    "err_l1=np.array([])\n",
    "acc_l2=np.array([])\n",
    "acc_l1=np.array([])"
   ]
  },
  {
   "cell_type": "code",
   "execution_count": 210,
   "metadata": {
    "colab": {
     "base_uri": "https://localhost:8080/",
     "height": 51
    },
    "id": "hvBGJiVNlQz-",
    "outputId": "33b15ba8-b7e4-4c84-ab49-be43ea0fc100"
   },
   "outputs": [
    {
     "name": "stdout",
     "output_type": "stream",
     "text": [
      "80.078125\n"
     ]
    },
    {
     "data": {
      "text/plain": [
       "231.14034850104733"
      ]
     },
     "execution_count": 210,
     "metadata": {
      "tags": []
     },
     "output_type": "execute_result"
    }
   ],
   "source": [
    "wh1=np.random.randn(Nh1, Ni);\n",
    "dwh1= np.zeros(wh1.shape);\n",
    "\n",
    "wh2=np.random.randn(Nh2, Nh1);\n",
    "dwh2= np.zeros(wh2.shape);\n",
    "\n",
    "wh3=np.random.randn(Nh3, Nh2);\n",
    "dwh3= np.zeros(wh3.shape);\n",
    "\n",
    "wo=np.random.randn(No,Nh3);\n",
    "dwo=np.zeros(wo.shape)\n",
    "\n",
    "for trial in range(Ntrials):\n",
    "\n",
    "    h1=1/(1+np.exp(-wh1@X))\n",
    "    \n",
    "    h2=1/(1+np.exp(-wh2@h1))\n",
    "\n",
    "    h3=1/(1+np.exp(-wh3@h2))\n",
    "\n",
    "    y=1/(1+np.exp(-wo@h3))\n",
    "\n",
    "    do=y*(1-y)*(Y-y)\n",
    "    dwo=momentum*dwo+do@h3.T + 2*Lambda*wo\n",
    "    wo=wo+alpha*dwo\n",
    "\n",
    "    dh3=h3*(1-h3)*(wo.transpose()@do)\n",
    "    dwh3=momentum*dwh3+dh3@h2.T + 2*Lambda*wh3\n",
    "    wh3=wh3+alpha*dwh3\n",
    "\n",
    "    dh2=h2*(1-h2)*(wh3.transpose()@dh3)\n",
    "    dwh2=momentum*dwh2+dh2@h1.T + 2*Lambda*wh2\n",
    "    wh2=wh2+alpha*dwh2\n",
    "\n",
    "    dh1=h1*(1-h1)*(wh2.transpose()@dh2)\n",
    "    dwh1=momentum*dwh1+dh1@X.T + 2*Lambda*wh1\n",
    "    wh1=wh1+alpha*dwh1\n",
    "\n",
    "    accuCount = np.sum(np.all(Y == np.round(y), axis = 0))\n",
    "    accuCount =  ((accuCount/train_size))*100;\n",
    "\n",
    "    L2_regularization = (Lambda/2) * (np.sum(np.square(wo)) + np.sum(np.square(wh1))+ \n",
    "                                                                     np.sum(np.square(wh2))+ np.sum(np.square(wh3)))\n",
    "    \n",
    "    err_l2 =np.append(err_l2, np.sum(abs(Y-np.round(y))) + L2_regularization)\n",
    "    acc_l2=np.append(acc_l2, accuCount)\n",
    "\n",
    "accuracy = np.sum(np.all(Y == np.round(y), axis = 0))\n",
    "accuracy =  ((accuracy/train_size))*100;\n",
    "print(accuracy)\n",
    "err_l2[-1]"
   ]
  },
  {
   "cell_type": "code",
   "execution_count": 211,
   "metadata": {
    "colab": {
     "base_uri": "https://localhost:8080/",
     "height": 51
    },
    "id": "pReNOBK5oJGZ",
    "outputId": "042fe2e8-107f-4be2-dd1c-871fb27c2282"
   },
   "outputs": [
    {
     "name": "stdout",
     "output_type": "stream",
     "text": [
      "767.6228699672556\n",
      "51.5625\n"
     ]
    }
   ],
   "source": [
    "X_test = x_test\n",
    "Y_test=y_test_binary.T\n",
    "\n",
    "h1=1/(1+np.exp(-wh1@X_test))\n",
    "    \n",
    "h2=1/(1+np.exp(-wh2@h1))\n",
    "\n",
    "h3=1/(1+np.exp(-wh3@h2))\n",
    "\n",
    "y_test_predicted=1/(1+np.exp(-wo@h3))\n",
    "\n",
    "\n",
    "err_pre = np.sum(abs(Y_test-y_test_predicted))\n",
    "\n",
    "accuracy_pre = np.sum(np.all(Y_test == np.round(y_test_predicted), axis = 0))\n",
    "accuracy_pre =  ((accuracy_pre/train_size))*100;\n",
    "print(err_pre)\n",
    "print(accuracy_pre)"
   ]
  },
  {
   "cell_type": "markdown",
   "metadata": {
    "id": "Ph3OhWfNw4wA"
   },
   "source": [
    "L1 regularization\n"
   ]
  },
  {
   "cell_type": "code",
   "execution_count": 212,
   "metadata": {
    "colab": {
     "base_uri": "https://localhost:8080/",
     "height": 51
    },
    "id": "zjxwRuZ_rLjm",
    "outputId": "78339672-7626-437f-df96-1995c624a2fa"
   },
   "outputs": [
    {
     "name": "stdout",
     "output_type": "stream",
     "text": [
      "98.2421875\n"
     ]
    },
    {
     "data": {
      "text/plain": [
       "38.14034850104733"
      ]
     },
     "execution_count": 212,
     "metadata": {
      "tags": []
     },
     "output_type": "execute_result"
    }
   ],
   "source": [
    "wh1=np.random.randn(Nh1, Ni);\n",
    "dwh1= np.zeros(wh1.shape);\n",
    "\n",
    "wh2=np.random.randn(Nh2, Nh1);\n",
    "dwh2= np.zeros(wh2.shape);\n",
    "\n",
    "wh3=np.random.randn(Nh3, Nh2);\n",
    "dwh3= np.zeros(wh3.shape);\n",
    "\n",
    "wo=np.random.randn(No,Nh3);\n",
    "dwo=np.zeros(wo.shape)\n",
    "\n",
    "for trial in range(Ntrials):\n",
    "\n",
    "    h1=1/(1+np.exp(-wh1@X))\n",
    "    \n",
    "    h2=1/(1+np.exp(-wh2@h1))\n",
    "\n",
    "    h3=1/(1+np.exp(-wh3@h2))\n",
    "\n",
    "    y=1/(1+np.exp(-wo@h3))\n",
    "\n",
    "    do=y*(1-y)*(Y-y)\n",
    "    dwo=momentum*dwo+do@h3.T + Lambda\n",
    "    wo=wo+alpha*dwo\n",
    "\n",
    "    dh3=h3*(1-h3)*(wo.transpose()@do)\n",
    "    dwh3=momentum*dwh3+dh3@h2.T + Lambda\n",
    "    wh3=wh3+alpha*dwh3\n",
    "\n",
    "    dh2=h2*(1-h2)*(wh3.transpose()@dh3)\n",
    "    dwh2=momentum*dwh2+dh2@h1.T + Lambda\n",
    "    wh2=wh2+alpha*dwh2\n",
    "\n",
    "    dh1=h1*(1-h1)*(wh2.transpose()@dh2)\n",
    "    dwh1=momentum*dwh1+dh1@X.T + Lambda\n",
    "    wh1=wh1+alpha*dwh1\n",
    "\n",
    "    accuCount = np.sum(np.all(Y == np.round(y), axis = 0))\n",
    "    accuCount =  ((accuCount/train_size))*100;\n",
    "\n",
    "    L1_regularization = (Lambda/2) * (np.sum(np.abs(wo)) + np.sum(np.abs(wh1))+ \n",
    "                                                                     np.sum(np.abs(wh2))+ np.abs(np.abs(wh3)))\n",
    "    \n",
    "    err_l1=np.append(err_l1, np.sum(abs(Y-np.round(y))) + L2_regularization)\n",
    "    acc_l1=np.append(acc_l1, accuCount)\n",
    "\n",
    "accuracy = np.sum(np.all(Y == np.round(y), axis = 0))\n",
    "accuracy =  ((accuracy/train_size))*100;\n",
    "print(accuracy)\n",
    "err_l1[-1]"
   ]
  },
  {
   "cell_type": "code",
   "execution_count": 213,
   "metadata": {
    "colab": {
     "base_uri": "https://localhost:8080/",
     "height": 51
    },
    "id": "bwmXvTi1uJ3v",
    "outputId": "af6c2429-915d-4b48-f0af-de64170afdec"
   },
   "outputs": [
    {
     "name": "stdout",
     "output_type": "stream",
     "text": [
      "684.3279410810276\n",
      "61.23046875\n"
     ]
    }
   ],
   "source": [
    "X_test = x_test\n",
    "Y_test=y_test_binary.T\n",
    "\n",
    "h1=1/(1+np.exp(-wh1@X_test))\n",
    "    \n",
    "h2=1/(1+np.exp(-wh2@h1))\n",
    "\n",
    "h3=1/(1+np.exp(-wh3@h2))\n",
    "\n",
    "y_test_predicted=1/(1+np.exp(-wo@h3))\n",
    "\n",
    "\n",
    "err_pre = np.sum(abs(Y_test-y_test_predicted))\n",
    "\n",
    "accuracy_pre = np.sum(np.all(Y_test == np.round(y_test_predicted), axis = 0))\n",
    "accuracy_pre =  ((accuracy_pre/train_size))*100;\n",
    "print(err_pre)\n",
    "print(accuracy_pre)"
   ]
  },
  {
   "cell_type": "code",
   "execution_count": 214,
   "metadata": {
    "colab": {
     "base_uri": "https://localhost:8080/",
     "height": 51
    },
    "id": "x7auFEYqvtFZ",
    "outputId": "71b9fe2b-7641-41be-9993-dd8054e01f37"
   },
   "outputs": [
    {
     "name": "stdout",
     "output_type": "stream",
     "text": [
      "1315.6065537467127\n",
      "29.98046875\n"
     ]
    }
   ],
   "source": [
    "import cv2\n",
    "# Blur \n",
    "x_test_noise = cv2.GaussianBlur(x_test,(5,5), 0)\n",
    "\n",
    "\n",
    "h1=1/(1+np.exp(-wh1@x_test_noise))\n",
    "    \n",
    "h2=1/(1+np.exp(-wh2@h1))\n",
    "\n",
    "h3=1/(1+np.exp(-wh3@h2))\n",
    "\n",
    "y_test_predicted_noise=1/(1+np.exp(-wo@h3))\n",
    "\n",
    "err_pre_noise = np.sum(abs(Y_test-y_test_predicted_noise))\n",
    "\n",
    "accuracy_noise = np.sum(np.all(Y_test == np.round(y_test_predicted_noise), axis = 0))\n",
    "accuracy_noise =  ((accuracy_noise/train_size))*100;\n",
    "print(err_pre_noise)\n",
    "print(accuracy_noise)"
   ]
  },
  {
   "cell_type": "code",
   "execution_count": 216,
   "metadata": {
    "colab": {
     "base_uri": "https://localhost:8080/",
     "height": 279
    },
    "id": "xzpRxi-Dw_1v",
    "outputId": "45aae28c-3f68-4ad6-cdef-10ffaa131c0f"
   },
   "outputs": [
    {
     "data": {
      "image/png": "[encoded data removed]",
      "text/plain": [
       "<Figure size 432x288 with 1 Axes>"
      ]
     },
     "metadata": {
      "needs_background": "light",
      "tags": []
     },
     "output_type": "display_data"
    }
   ],
   "source": [
    "import matplotlib.pyplot as plt\n",
    "plt.xlabel(\"Number of Trials\")\n",
    "plt.ylabel(\"Accuracy\")\n",
    "plt.plot(acc_l2)\n",
    "plt.plot(acc_l1)\n",
    "plt.legend(['Ridge', 'LASSO'], loc='upper left')\n",
    "plt.show()"
   ]
  },
  {
   "cell_type": "code",
   "execution_count": 217,
   "metadata": {
    "colab": {
     "base_uri": "https://localhost:8080/",
     "height": 279
    },
    "id": "ln6hzcHyxcsI",
    "outputId": "5e3c8cb0-3836-4799-adfb-cb4c0dcf4117"
   },
   "outputs": [
    {
     "data": {
      "image/png": "[encoded data removed]",
      "text/plain": [
       "<Figure size 432x288 with 1 Axes>"
      ]
     },
     "metadata": {
      "needs_background": "light",
      "tags": []
     },
     "output_type": "display_data"
    }
   ],
   "source": [
    "import matplotlib.pyplot as plt\n",
    "plt.xlabel(\"Number of Trials\")\n",
    "plt.ylabel(\"Accuracy\")\n",
    "plt.plot(err_l2)\n",
    "plt.plot(err_l1)\n",
    "plt.legend(['Ridge', 'LASSO'], loc='upper right')\n",
    "plt.show()"
   ]
  }
 ],
 "metadata": {
  "colab": {
   "collapsed_sections": [
    "AqcEu4-d-wdg",
    "GRVpNGC7-73h",
    "zSdSbqif_FuA",
    "fMV-sRrTEOKC",
    "e-Yx5y88IGY7",
    "W3tTh1a9RCLP"
   ],
   "name": "MidTermCode_B00843735.ipynb",
   "provenance": []
  },
  "kernelspec": {
   "display_name": "Python 3",
   "language": "python",
   "name": "python3"
  },
  "language_info": {
   "codemirror_mode": {
    "name": "ipython",
    "version": 3
   },
   "file_extension": ".py",
   "mimetype": "text/x-python",
   "name": "python",
   "nbconvert_exporter": "python",
   "pygments_lexer": "ipython3",
   "version": "3.8.5"
  }
 },
 "nbformat": 4,
 "nbformat_minor": 1
}
